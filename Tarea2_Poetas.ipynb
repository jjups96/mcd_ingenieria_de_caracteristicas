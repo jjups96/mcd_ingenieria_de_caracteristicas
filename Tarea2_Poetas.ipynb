{
  "cells": [
    {
      "cell_type": "markdown",
      "metadata": {
        "id": "view-in-github",
        "colab_type": "text"
      },
      "source": [
        "<a href=\"https://colab.research.google.com/github/jjups96/mcd_ingenieria_de_caracteristicas/blob/main/Tarea2_Poetas.ipynb\" target=\"_parent\"><img src=\"https://colab.research.google.com/assets/colab-badge.svg\" alt=\"Open In Colab\"/></a>"
      ]
    },
    {
      "cell_type": "markdown",
      "metadata": {
        "id": "fLqU9CLUK9Xq"
      },
      "source": [
        "<center>\n",
        "<p><img src=\"https://mcd.unison.mx/wp-content/themes/awaken/img/logo_mcd.png\" width=\"150\">\n",
        "</p>\n",
        "\n",
        "\n",
        "\n",
        "# Curso *Ingeniería de Características*\n",
        "\n",
        "### Manejo de XML\n",
        "\n",
        "\n",
        "<p> Jordan Joel Urias Paramo </p>\n",
        "<p>\n",
        "<img src=\"https://identidadbuho.unison.mx/wp-content/uploads/2019/06/letragrama-cmyk-72.jpg\" width=\"150\">\n",
        "</p>\n",
        "\n",
        "\n",
        "<a target=\"_blank\" href=\"https://colab.research.google.com/github/mcd-unison/ing-caract/blob/main/ejemplos/integracion/python/descarga_datos.ipynb\"><img src=\"https://i.ibb.co/2P3SLwK/colab.png\"  style=\"padding-bottom:5px;\" />Ejecuta en Google Colab</a>\n",
        "\n",
        "</center>"
      ]
    },
    {
      "cell_type": "markdown",
      "source": [
        "# 1. primero descargamos la informacion\n",
        "\n",
        "En la tarea se nos proporciono un link a un repositorio de github que ya tiene la info"
      ],
      "metadata": {
        "id": "pYoxBIrvqfZy"
      }
    },
    {
      "cell_type": "code",
      "source": [
        "#Cargamos librerias base\n",
        "import os  # Para manejo de archivos y directorios\n",
        "import urllib.request # Una forma estandard de descargar datos\n",
        "\n",
        "import datetime # Fecha de descarga\n",
        "import pandas as pd # Solo para ver el archivo descargado\n",
        "import zipfile # Descompresión de archivos\n",
        "import numpy as np"
      ],
      "metadata": {
        "id": "JEBtU0QjqfCn"
      },
      "execution_count": 1,
      "outputs": []
    },
    {
      "cell_type": "code",
      "source": [
        "#pw\n",
        "print(os.getcwd())\n",
        "\n",
        "poestas_argentinos_url = \"https://github.com/mcd-unison/ing-caract/raw/main/ejemplos/integracion/ejemplos/wikipedia-poetas.xml\"\n",
        "poestas_argentinos_archivo = \"wikipedia-poetas.xml\"\n",
        "subdir = \"./data/\""
      ],
      "metadata": {
        "colab": {
          "base_uri": "https://localhost:8080/"
        },
        "id": "MQjecHZYsa_M",
        "outputId": "0a8c1566-b3ab-4413-e3ea-f5ea45373b1d"
      },
      "execution_count": 2,
      "outputs": [
        {
          "output_type": "stream",
          "name": "stdout",
          "text": [
            "/content\n"
          ]
        }
      ]
    },
    {
      "cell_type": "code",
      "source": [
        "if not os.path.exists(poestas_argentinos_archivo):\n",
        "    if not os.path.exists(subdir):\n",
        "        os.makedirs(subdir)\n",
        "    urllib.request.urlretrieve(poestas_argentinos_url, subdir + poestas_argentinos_archivo)  \n",
        "\n",
        "\n",
        "    with open(subdir + \"info.txt\", 'w') as f:\n",
        "        f.write(\"Archivos sobre poetas argentinos\\n\")\n",
        "        info = \"\"\"\n",
        "        Datos en formato XML que estan feos de leer\n",
        "\n",
        "        Los datos se obtuvieron del github del profe Waissman con fecha de 03 de Septiembre de 2022\n",
        "\n",
        "        \"\"\" \n",
        "        f.write(info + '\\n')\n",
        "        f.write(\"Descargado el \" + datetime.datetime.now().strftime(\"%Y-%m-%d %H:%M:%S\") + \"\\n\")\n",
        "        f.write(\"Desde: \" + poestas_argentinos_url + \"\\n\")\n",
        "        f.write(\"Nombre: \" + poestas_argentinos_archivo + \"\\n\")"
      ],
      "metadata": {
        "id": "p7ELFQ6usbJ4"
      },
      "execution_count": 3,
      "outputs": []
    },
    {
      "cell_type": "markdown",
      "metadata": {
        "id": "byjoQIg5K9Xu"
      },
      "source": [
        "# 2. Haciendo trampa\n",
        "\n",
        "En la tarea dice que descarguemos leyamos el xml de Poetas argentnos de wikipedia. Pero no dice con que libreria.\n",
        "\n",
        "Asi usare una libreria hecha especificamente hecha para bajar y manejar los archivos xml de wikipedia."
      ]
    },
    {
      "cell_type": "code",
      "source": [
        "!pip install mwxml"
      ],
      "metadata": {
        "colab": {
          "base_uri": "https://localhost:8080/"
        },
        "id": "qeT1QY_XqMDh",
        "outputId": "4470ce52-31c2-43bc-905b-839cb1b3811a"
      },
      "execution_count": 4,
      "outputs": [
        {
          "output_type": "stream",
          "name": "stdout",
          "text": [
            "Looking in indexes: https://pypi.org/simple, https://us-python.pkg.dev/colab-wheels/public/simple/\n",
            "Requirement already satisfied: mwxml in /usr/local/lib/python3.7/dist-packages (0.3.3)\n",
            "Requirement already satisfied: mwcli>=0.0.2 in /usr/local/lib/python3.7/dist-packages (from mwxml) (0.0.3)\n",
            "Requirement already satisfied: jsonschema>=2.5.1 in /usr/local/lib/python3.7/dist-packages (from mwxml) (4.3.3)\n",
            "Requirement already satisfied: mwtypes>=0.3.0 in /usr/local/lib/python3.7/dist-packages (from mwxml) (0.3.2)\n",
            "Requirement already satisfied: para>=0.0.1 in /usr/local/lib/python3.7/dist-packages (from mwxml) (0.0.8)\n",
            "Requirement already satisfied: importlib-metadata in /usr/local/lib/python3.7/dist-packages (from jsonschema>=2.5.1->mwxml) (4.12.0)\n",
            "Requirement already satisfied: importlib-resources>=1.4.0 in /usr/local/lib/python3.7/dist-packages (from jsonschema>=2.5.1->mwxml) (5.9.0)\n",
            "Requirement already satisfied: attrs>=17.4.0 in /usr/local/lib/python3.7/dist-packages (from jsonschema>=2.5.1->mwxml) (22.1.0)\n",
            "Requirement already satisfied: pyrsistent!=0.17.0,!=0.17.1,!=0.17.2,>=0.14.0 in /usr/local/lib/python3.7/dist-packages (from jsonschema>=2.5.1->mwxml) (0.18.1)\n",
            "Requirement already satisfied: typing-extensions in /usr/local/lib/python3.7/dist-packages (from jsonschema>=2.5.1->mwxml) (4.1.1)\n",
            "Requirement already satisfied: zipp>=3.1.0 in /usr/local/lib/python3.7/dist-packages (from importlib-resources>=1.4.0->jsonschema>=2.5.1->mwxml) (3.8.1)\n",
            "Requirement already satisfied: docopt in /usr/local/lib/python3.7/dist-packages (from mwcli>=0.0.2->mwxml) (0.6.2)\n",
            "Requirement already satisfied: jsonable>=0.3.0 in /usr/local/lib/python3.7/dist-packages (from mwtypes>=0.3.0->mwxml) (0.3.1)\n"
          ]
        }
      ]
    },
    {
      "cell_type": "code",
      "execution_count": 5,
      "metadata": {
        "id": "wnDkWxkFK9Xu"
      },
      "outputs": [],
      "source": [
        "import mwxml\n",
        "import glob"
      ]
    },
    {
      "cell_type": "markdown",
      "source": [
        "# 3. Veamos como funciona esta libreria"
      ],
      "metadata": {
        "id": "mc_hkR5lpQZd"
      }
    },
    {
      "cell_type": "code",
      "source": [
        "paths = glob.glob(subdir + poestas_argentinos_archivo)\n",
        "\n",
        "def process_dump(dump, path):\n",
        "  for page in dump:\n",
        "    for revision in page:\n",
        "        yield page.id,page.title, revision.id, revision.timestamp, len(revision.text)\n",
        "\n",
        "#Comentado por que ya se que sale, y llena la pantalla\n",
        "#for page_id,page_title, rev_id, rev_timestamp, rev_textlength in mwxml.map(process_dump, paths):\n",
        "#    print(\";\".join(str(v) for v in [page_id, page_title,rev_id, rev_timestamp, rev_textlength]))"
      ],
      "metadata": {
        "id": "INJkauDUydnt"
      },
      "execution_count": 6,
      "outputs": []
    },
    {
      "cell_type": "markdown",
      "source": [
        "# 4. Definimos una problematica y/o que se pueden hacer con los datos\n",
        "Como aproveche para sacar la informacion usando la libreria de wikimedia para checar los dumps, creo que estaria padre revisar las ediciones a los articulos, por ejemplo checar cuales son los poetas mas editados, cuantas ediciones se hacen por año, en que epocas se hacen mas ediciones. Asi podriamos encontrar algunos patrones interesantes y talvez algunas tendencias.\n",
        "\n",
        "---\n",
        "\n",
        "# 5. Creamos un dataframe\n",
        "\n",
        "Ya que vemos como funciona (la libreria), procedemos a crear un dataframe para organizarlo, y guardarlo en un formato que pueda ser transformado posteriormente a un dataframe, por facilidad guardamos el objeto de tipo timestamp como string con un formato bonito para pandas."
      ],
      "metadata": {
        "id": "iE5EKOUj3hzA"
      }
    },
    {
      "cell_type": "code",
      "source": [
        "array_data=[]\n",
        "\n",
        "for page_id,page_title, rev_id, rev_timestamp, rev_textlength in mwxml.map(process_dump, paths):\n",
        "    array_data.append([page_id, page_title,rev_id, rev_timestamp.strftime(\"%m/%d/%Y, %H:%M:%S\"), rev_textlength])"
      ],
      "metadata": {
        "id": "8U_EsGpz3g-g"
      },
      "execution_count": 7,
      "outputs": []
    },
    {
      "cell_type": "code",
      "source": [
        "df = pd.DataFrame(np.array(array_data),\n",
        "                   columns=['page_id', 'page_title', 'rev_id','rev_timestamp','rev_textlength'])"
      ],
      "metadata": {
        "id": "V_PVGjE03hEc"
      },
      "execution_count": 8,
      "outputs": []
    },
    {
      "cell_type": "markdown",
      "source": [
        "Checamos los tipos"
      ],
      "metadata": {
        "id": "HXgaQe66_W8E"
      }
    },
    {
      "cell_type": "code",
      "source": [
        "df.info()"
      ],
      "metadata": {
        "colab": {
          "base_uri": "https://localhost:8080/"
        },
        "id": "s2Elblfy3hHI",
        "outputId": "ea165c69-94f8-4fb8-c727-5e3d2cac99ed"
      },
      "execution_count": 9,
      "outputs": [
        {
          "output_type": "stream",
          "name": "stdout",
          "text": [
            "<class 'pandas.core.frame.DataFrame'>\n",
            "RangeIndex: 639 entries, 0 to 638\n",
            "Data columns (total 5 columns):\n",
            " #   Column          Non-Null Count  Dtype \n",
            "---  ------          --------------  ----- \n",
            " 0   page_id         639 non-null    object\n",
            " 1   page_title      639 non-null    object\n",
            " 2   rev_id          639 non-null    object\n",
            " 3   rev_timestamp   639 non-null    object\n",
            " 4   rev_textlength  639 non-null    object\n",
            "dtypes: object(5)\n",
            "memory usage: 25.1+ KB\n"
          ]
        }
      ]
    },
    {
      "cell_type": "markdown",
      "source": [
        "Y convertimos a timestamp en pandas la columna del tiempo"
      ],
      "metadata": {
        "id": "ODkvcEwD_fhU"
      }
    },
    {
      "cell_type": "code",
      "source": [
        "df['rev_timestamp'] = df['rev_timestamp'].apply(pd.Timestamp)"
      ],
      "metadata": {
        "id": "sdlNMyr93dAU"
      },
      "execution_count": 10,
      "outputs": []
    },
    {
      "cell_type": "code",
      "source": [
        "df.info()"
      ],
      "metadata": {
        "colab": {
          "base_uri": "https://localhost:8080/"
        },
        "id": "7xGOg37v_EdD",
        "outputId": "f1a05a98-c3ae-4f85-b366-dd1570d2b32a"
      },
      "execution_count": 11,
      "outputs": [
        {
          "output_type": "stream",
          "name": "stdout",
          "text": [
            "<class 'pandas.core.frame.DataFrame'>\n",
            "RangeIndex: 639 entries, 0 to 638\n",
            "Data columns (total 5 columns):\n",
            " #   Column          Non-Null Count  Dtype         \n",
            "---  ------          --------------  -----         \n",
            " 0   page_id         639 non-null    object        \n",
            " 1   page_title      639 non-null    object        \n",
            " 2   rev_id          639 non-null    object        \n",
            " 3   rev_timestamp   639 non-null    datetime64[ns]\n",
            " 4   rev_textlength  639 non-null    object        \n",
            "dtypes: datetime64[ns](1), object(4)\n",
            "memory usage: 25.1+ KB\n"
          ]
        }
      ]
    },
    {
      "cell_type": "code",
      "source": [
        "df.head()"
      ],
      "metadata": {
        "colab": {
          "base_uri": "https://localhost:8080/",
          "height": 206
        },
        "id": "Ioeiywnq_AkE",
        "outputId": "c6b37482-129f-42aa-b48d-66764b6247f4"
      },
      "execution_count": 13,
      "outputs": [
        {
          "output_type": "execute_result",
          "data": {
            "text/plain": [
              "   page_id                 page_title     rev_id       rev_timestamp  \\\n",
              "0  4949229  Julia Morilla de Campbell  102979192 2017-10-30 07:46:11   \n",
              "1  5105749               Luis Negreti   93686970 2016-09-17 17:35:26   \n",
              "2  4477192                 Poldy Bird  108610182 2018-06-11 04:34:41   \n",
              "3   423422             Ana María Shua  108670781 2018-06-13 18:50:17   \n",
              "4  4284479               León Benarós  107379800 2018-04-29 21:49:56   \n",
              "\n",
              "  rev_textlength  \n",
              "0           4081  \n",
              "1           5047  \n",
              "2           5845  \n",
              "3          11800  \n",
              "4           9276  "
            ],
            "text/html": [
              "\n",
              "  <div id=\"df-33638c69-a5f0-42b5-b213-e9341c2f65bb\">\n",
              "    <div class=\"colab-df-container\">\n",
              "      <div>\n",
              "<style scoped>\n",
              "    .dataframe tbody tr th:only-of-type {\n",
              "        vertical-align: middle;\n",
              "    }\n",
              "\n",
              "    .dataframe tbody tr th {\n",
              "        vertical-align: top;\n",
              "    }\n",
              "\n",
              "    .dataframe thead th {\n",
              "        text-align: right;\n",
              "    }\n",
              "</style>\n",
              "<table border=\"1\" class=\"dataframe\">\n",
              "  <thead>\n",
              "    <tr style=\"text-align: right;\">\n",
              "      <th></th>\n",
              "      <th>page_id</th>\n",
              "      <th>page_title</th>\n",
              "      <th>rev_id</th>\n",
              "      <th>rev_timestamp</th>\n",
              "      <th>rev_textlength</th>\n",
              "    </tr>\n",
              "  </thead>\n",
              "  <tbody>\n",
              "    <tr>\n",
              "      <th>0</th>\n",
              "      <td>4949229</td>\n",
              "      <td>Julia Morilla de Campbell</td>\n",
              "      <td>102979192</td>\n",
              "      <td>2017-10-30 07:46:11</td>\n",
              "      <td>4081</td>\n",
              "    </tr>\n",
              "    <tr>\n",
              "      <th>1</th>\n",
              "      <td>5105749</td>\n",
              "      <td>Luis Negreti</td>\n",
              "      <td>93686970</td>\n",
              "      <td>2016-09-17 17:35:26</td>\n",
              "      <td>5047</td>\n",
              "    </tr>\n",
              "    <tr>\n",
              "      <th>2</th>\n",
              "      <td>4477192</td>\n",
              "      <td>Poldy Bird</td>\n",
              "      <td>108610182</td>\n",
              "      <td>2018-06-11 04:34:41</td>\n",
              "      <td>5845</td>\n",
              "    </tr>\n",
              "    <tr>\n",
              "      <th>3</th>\n",
              "      <td>423422</td>\n",
              "      <td>Ana María Shua</td>\n",
              "      <td>108670781</td>\n",
              "      <td>2018-06-13 18:50:17</td>\n",
              "      <td>11800</td>\n",
              "    </tr>\n",
              "    <tr>\n",
              "      <th>4</th>\n",
              "      <td>4284479</td>\n",
              "      <td>León Benarós</td>\n",
              "      <td>107379800</td>\n",
              "      <td>2018-04-29 21:49:56</td>\n",
              "      <td>9276</td>\n",
              "    </tr>\n",
              "  </tbody>\n",
              "</table>\n",
              "</div>\n",
              "      <button class=\"colab-df-convert\" onclick=\"convertToInteractive('df-33638c69-a5f0-42b5-b213-e9341c2f65bb')\"\n",
              "              title=\"Convert this dataframe to an interactive table.\"\n",
              "              style=\"display:none;\">\n",
              "        \n",
              "  <svg xmlns=\"http://www.w3.org/2000/svg\" height=\"24px\"viewBox=\"0 0 24 24\"\n",
              "       width=\"24px\">\n",
              "    <path d=\"M0 0h24v24H0V0z\" fill=\"none\"/>\n",
              "    <path d=\"M18.56 5.44l.94 2.06.94-2.06 2.06-.94-2.06-.94-.94-2.06-.94 2.06-2.06.94zm-11 1L8.5 8.5l.94-2.06 2.06-.94-2.06-.94L8.5 2.5l-.94 2.06-2.06.94zm10 10l.94 2.06.94-2.06 2.06-.94-2.06-.94-.94-2.06-.94 2.06-2.06.94z\"/><path d=\"M17.41 7.96l-1.37-1.37c-.4-.4-.92-.59-1.43-.59-.52 0-1.04.2-1.43.59L10.3 9.45l-7.72 7.72c-.78.78-.78 2.05 0 2.83L4 21.41c.39.39.9.59 1.41.59.51 0 1.02-.2 1.41-.59l7.78-7.78 2.81-2.81c.8-.78.8-2.07 0-2.86zM5.41 20L4 18.59l7.72-7.72 1.47 1.35L5.41 20z\"/>\n",
              "  </svg>\n",
              "      </button>\n",
              "      \n",
              "  <style>\n",
              "    .colab-df-container {\n",
              "      display:flex;\n",
              "      flex-wrap:wrap;\n",
              "      gap: 12px;\n",
              "    }\n",
              "\n",
              "    .colab-df-convert {\n",
              "      background-color: #E8F0FE;\n",
              "      border: none;\n",
              "      border-radius: 50%;\n",
              "      cursor: pointer;\n",
              "      display: none;\n",
              "      fill: #1967D2;\n",
              "      height: 32px;\n",
              "      padding: 0 0 0 0;\n",
              "      width: 32px;\n",
              "    }\n",
              "\n",
              "    .colab-df-convert:hover {\n",
              "      background-color: #E2EBFA;\n",
              "      box-shadow: 0px 1px 2px rgba(60, 64, 67, 0.3), 0px 1px 3px 1px rgba(60, 64, 67, 0.15);\n",
              "      fill: #174EA6;\n",
              "    }\n",
              "\n",
              "    [theme=dark] .colab-df-convert {\n",
              "      background-color: #3B4455;\n",
              "      fill: #D2E3FC;\n",
              "    }\n",
              "\n",
              "    [theme=dark] .colab-df-convert:hover {\n",
              "      background-color: #434B5C;\n",
              "      box-shadow: 0px 1px 3px 1px rgba(0, 0, 0, 0.15);\n",
              "      filter: drop-shadow(0px 1px 2px rgba(0, 0, 0, 0.3));\n",
              "      fill: #FFFFFF;\n",
              "    }\n",
              "  </style>\n",
              "\n",
              "      <script>\n",
              "        const buttonEl =\n",
              "          document.querySelector('#df-33638c69-a5f0-42b5-b213-e9341c2f65bb button.colab-df-convert');\n",
              "        buttonEl.style.display =\n",
              "          google.colab.kernel.accessAllowed ? 'block' : 'none';\n",
              "\n",
              "        async function convertToInteractive(key) {\n",
              "          const element = document.querySelector('#df-33638c69-a5f0-42b5-b213-e9341c2f65bb');\n",
              "          const dataTable =\n",
              "            await google.colab.kernel.invokeFunction('convertToInteractive',\n",
              "                                                     [key], {});\n",
              "          if (!dataTable) return;\n",
              "\n",
              "          const docLinkHtml = 'Like what you see? Visit the ' +\n",
              "            '<a target=\"_blank\" href=https://colab.research.google.com/notebooks/data_table.ipynb>data table notebook</a>'\n",
              "            + ' to learn more about interactive tables.';\n",
              "          element.innerHTML = '';\n",
              "          dataTable['output_type'] = 'display_data';\n",
              "          await google.colab.output.renderOutput(dataTable, element);\n",
              "          const docLink = document.createElement('div');\n",
              "          docLink.innerHTML = docLinkHtml;\n",
              "          element.appendChild(docLink);\n",
              "        }\n",
              "      </script>\n",
              "    </div>\n",
              "  </div>\n",
              "  "
            ]
          },
          "metadata": {},
          "execution_count": 13
        }
      ]
    },
    {
      "cell_type": "markdown",
      "source": [
        "# 6. Lo guardamos como parquet."
      ],
      "metadata": {
        "id": "_ujOsLknBGN6"
      }
    },
    {
      "cell_type": "code",
      "source": [
        "df.to_parquet('poetas.argentinos.parquet.gzip',\n",
        "              compression='gzip')"
      ],
      "metadata": {
        "id": "2jT313buBFKm"
      },
      "execution_count": 14,
      "outputs": []
    },
    {
      "cell_type": "markdown",
      "source": [
        "Y pongo el codigo para leer para que no se me olvide"
      ],
      "metadata": {
        "id": "9OIyPwvh_tgC"
      }
    },
    {
      "cell_type": "code",
      "source": [
        "pd.read_parquet('poetas.argentinos.parquet.gzip')"
      ],
      "metadata": {
        "colab": {
          "base_uri": "https://localhost:8080/",
          "height": 423
        },
        "id": "wVfhNGrUBclM",
        "outputId": "c7c4b12e-bca8-4a56-b4ff-44eab4859864"
      },
      "execution_count": 15,
      "outputs": [
        {
          "output_type": "execute_result",
          "data": {
            "text/plain": [
              "     page_id                 page_title     rev_id       rev_timestamp  \\\n",
              "0    4949229  Julia Morilla de Campbell  102979192 2017-10-30 07:46:11   \n",
              "1    5105749               Luis Negreti   93686970 2016-09-17 17:35:26   \n",
              "2    4477192                 Poldy Bird  108610182 2018-06-11 04:34:41   \n",
              "3     423422             Ana María Shua  108670781 2018-06-13 18:50:17   \n",
              "4    4284479               León Benarós  107379800 2018-04-29 21:49:56   \n",
              "..       ...                        ...        ...                 ...   \n",
              "634  7887761            Humberto Tejera  109126317 2018-07-06 17:07:38   \n",
              "635  8440353          Mario Molina Cruz  109468905 2018-07-23 14:27:14   \n",
              "636  6449649      Luis Ignacio Helguera  107708539 2018-05-11 14:19:35   \n",
              "637  8528770   Daniel Olivares Viniegra  109413118 2018-07-20 21:56:20   \n",
              "638  8547651     Guadalupe Flores Liera  109420339 2018-07-21 06:52:42   \n",
              "\n",
              "    rev_textlength  \n",
              "0             4081  \n",
              "1             5047  \n",
              "2             5845  \n",
              "3            11800  \n",
              "4             9276  \n",
              "..             ...  \n",
              "634          24579  \n",
              "635           5861  \n",
              "636          13917  \n",
              "637           3205  \n",
              "638           4627  \n",
              "\n",
              "[639 rows x 5 columns]"
            ],
            "text/html": [
              "\n",
              "  <div id=\"df-206924df-f43a-4cb2-b11a-51a9b9067b33\">\n",
              "    <div class=\"colab-df-container\">\n",
              "      <div>\n",
              "<style scoped>\n",
              "    .dataframe tbody tr th:only-of-type {\n",
              "        vertical-align: middle;\n",
              "    }\n",
              "\n",
              "    .dataframe tbody tr th {\n",
              "        vertical-align: top;\n",
              "    }\n",
              "\n",
              "    .dataframe thead th {\n",
              "        text-align: right;\n",
              "    }\n",
              "</style>\n",
              "<table border=\"1\" class=\"dataframe\">\n",
              "  <thead>\n",
              "    <tr style=\"text-align: right;\">\n",
              "      <th></th>\n",
              "      <th>page_id</th>\n",
              "      <th>page_title</th>\n",
              "      <th>rev_id</th>\n",
              "      <th>rev_timestamp</th>\n",
              "      <th>rev_textlength</th>\n",
              "    </tr>\n",
              "  </thead>\n",
              "  <tbody>\n",
              "    <tr>\n",
              "      <th>0</th>\n",
              "      <td>4949229</td>\n",
              "      <td>Julia Morilla de Campbell</td>\n",
              "      <td>102979192</td>\n",
              "      <td>2017-10-30 07:46:11</td>\n",
              "      <td>4081</td>\n",
              "    </tr>\n",
              "    <tr>\n",
              "      <th>1</th>\n",
              "      <td>5105749</td>\n",
              "      <td>Luis Negreti</td>\n",
              "      <td>93686970</td>\n",
              "      <td>2016-09-17 17:35:26</td>\n",
              "      <td>5047</td>\n",
              "    </tr>\n",
              "    <tr>\n",
              "      <th>2</th>\n",
              "      <td>4477192</td>\n",
              "      <td>Poldy Bird</td>\n",
              "      <td>108610182</td>\n",
              "      <td>2018-06-11 04:34:41</td>\n",
              "      <td>5845</td>\n",
              "    </tr>\n",
              "    <tr>\n",
              "      <th>3</th>\n",
              "      <td>423422</td>\n",
              "      <td>Ana María Shua</td>\n",
              "      <td>108670781</td>\n",
              "      <td>2018-06-13 18:50:17</td>\n",
              "      <td>11800</td>\n",
              "    </tr>\n",
              "    <tr>\n",
              "      <th>4</th>\n",
              "      <td>4284479</td>\n",
              "      <td>León Benarós</td>\n",
              "      <td>107379800</td>\n",
              "      <td>2018-04-29 21:49:56</td>\n",
              "      <td>9276</td>\n",
              "    </tr>\n",
              "    <tr>\n",
              "      <th>...</th>\n",
              "      <td>...</td>\n",
              "      <td>...</td>\n",
              "      <td>...</td>\n",
              "      <td>...</td>\n",
              "      <td>...</td>\n",
              "    </tr>\n",
              "    <tr>\n",
              "      <th>634</th>\n",
              "      <td>7887761</td>\n",
              "      <td>Humberto Tejera</td>\n",
              "      <td>109126317</td>\n",
              "      <td>2018-07-06 17:07:38</td>\n",
              "      <td>24579</td>\n",
              "    </tr>\n",
              "    <tr>\n",
              "      <th>635</th>\n",
              "      <td>8440353</td>\n",
              "      <td>Mario Molina Cruz</td>\n",
              "      <td>109468905</td>\n",
              "      <td>2018-07-23 14:27:14</td>\n",
              "      <td>5861</td>\n",
              "    </tr>\n",
              "    <tr>\n",
              "      <th>636</th>\n",
              "      <td>6449649</td>\n",
              "      <td>Luis Ignacio Helguera</td>\n",
              "      <td>107708539</td>\n",
              "      <td>2018-05-11 14:19:35</td>\n",
              "      <td>13917</td>\n",
              "    </tr>\n",
              "    <tr>\n",
              "      <th>637</th>\n",
              "      <td>8528770</td>\n",
              "      <td>Daniel Olivares Viniegra</td>\n",
              "      <td>109413118</td>\n",
              "      <td>2018-07-20 21:56:20</td>\n",
              "      <td>3205</td>\n",
              "    </tr>\n",
              "    <tr>\n",
              "      <th>638</th>\n",
              "      <td>8547651</td>\n",
              "      <td>Guadalupe Flores Liera</td>\n",
              "      <td>109420339</td>\n",
              "      <td>2018-07-21 06:52:42</td>\n",
              "      <td>4627</td>\n",
              "    </tr>\n",
              "  </tbody>\n",
              "</table>\n",
              "<p>639 rows × 5 columns</p>\n",
              "</div>\n",
              "      <button class=\"colab-df-convert\" onclick=\"convertToInteractive('df-206924df-f43a-4cb2-b11a-51a9b9067b33')\"\n",
              "              title=\"Convert this dataframe to an interactive table.\"\n",
              "              style=\"display:none;\">\n",
              "        \n",
              "  <svg xmlns=\"http://www.w3.org/2000/svg\" height=\"24px\"viewBox=\"0 0 24 24\"\n",
              "       width=\"24px\">\n",
              "    <path d=\"M0 0h24v24H0V0z\" fill=\"none\"/>\n",
              "    <path d=\"M18.56 5.44l.94 2.06.94-2.06 2.06-.94-2.06-.94-.94-2.06-.94 2.06-2.06.94zm-11 1L8.5 8.5l.94-2.06 2.06-.94-2.06-.94L8.5 2.5l-.94 2.06-2.06.94zm10 10l.94 2.06.94-2.06 2.06-.94-2.06-.94-.94-2.06-.94 2.06-2.06.94z\"/><path d=\"M17.41 7.96l-1.37-1.37c-.4-.4-.92-.59-1.43-.59-.52 0-1.04.2-1.43.59L10.3 9.45l-7.72 7.72c-.78.78-.78 2.05 0 2.83L4 21.41c.39.39.9.59 1.41.59.51 0 1.02-.2 1.41-.59l7.78-7.78 2.81-2.81c.8-.78.8-2.07 0-2.86zM5.41 20L4 18.59l7.72-7.72 1.47 1.35L5.41 20z\"/>\n",
              "  </svg>\n",
              "      </button>\n",
              "      \n",
              "  <style>\n",
              "    .colab-df-container {\n",
              "      display:flex;\n",
              "      flex-wrap:wrap;\n",
              "      gap: 12px;\n",
              "    }\n",
              "\n",
              "    .colab-df-convert {\n",
              "      background-color: #E8F0FE;\n",
              "      border: none;\n",
              "      border-radius: 50%;\n",
              "      cursor: pointer;\n",
              "      display: none;\n",
              "      fill: #1967D2;\n",
              "      height: 32px;\n",
              "      padding: 0 0 0 0;\n",
              "      width: 32px;\n",
              "    }\n",
              "\n",
              "    .colab-df-convert:hover {\n",
              "      background-color: #E2EBFA;\n",
              "      box-shadow: 0px 1px 2px rgba(60, 64, 67, 0.3), 0px 1px 3px 1px rgba(60, 64, 67, 0.15);\n",
              "      fill: #174EA6;\n",
              "    }\n",
              "\n",
              "    [theme=dark] .colab-df-convert {\n",
              "      background-color: #3B4455;\n",
              "      fill: #D2E3FC;\n",
              "    }\n",
              "\n",
              "    [theme=dark] .colab-df-convert:hover {\n",
              "      background-color: #434B5C;\n",
              "      box-shadow: 0px 1px 3px 1px rgba(0, 0, 0, 0.15);\n",
              "      filter: drop-shadow(0px 1px 2px rgba(0, 0, 0, 0.3));\n",
              "      fill: #FFFFFF;\n",
              "    }\n",
              "  </style>\n",
              "\n",
              "      <script>\n",
              "        const buttonEl =\n",
              "          document.querySelector('#df-206924df-f43a-4cb2-b11a-51a9b9067b33 button.colab-df-convert');\n",
              "        buttonEl.style.display =\n",
              "          google.colab.kernel.accessAllowed ? 'block' : 'none';\n",
              "\n",
              "        async function convertToInteractive(key) {\n",
              "          const element = document.querySelector('#df-206924df-f43a-4cb2-b11a-51a9b9067b33');\n",
              "          const dataTable =\n",
              "            await google.colab.kernel.invokeFunction('convertToInteractive',\n",
              "                                                     [key], {});\n",
              "          if (!dataTable) return;\n",
              "\n",
              "          const docLinkHtml = 'Like what you see? Visit the ' +\n",
              "            '<a target=\"_blank\" href=https://colab.research.google.com/notebooks/data_table.ipynb>data table notebook</a>'\n",
              "            + ' to learn more about interactive tables.';\n",
              "          element.innerHTML = '';\n",
              "          dataTable['output_type'] = 'display_data';\n",
              "          await google.colab.output.renderOutput(dataTable, element);\n",
              "          const docLink = document.createElement('div');\n",
              "          docLink.innerHTML = docLinkHtml;\n",
              "          element.appendChild(docLink);\n",
              "        }\n",
              "      </script>\n",
              "    </div>\n",
              "  </div>\n",
              "  "
            ]
          },
          "metadata": {},
          "execution_count": 15
        }
      ]
    }
  ],
  "metadata": {
    "kernelspec": {
      "display_name": "Python 3.9.6 ('ing-caract')",
      "language": "python",
      "name": "python3"
    },
    "language_info": {
      "codemirror_mode": {
        "name": "ipython",
        "version": 3
      },
      "file_extension": ".py",
      "mimetype": "text/x-python",
      "name": "python",
      "nbconvert_exporter": "python",
      "pygments_lexer": "ipython3",
      "version": "3.9.6"
    },
    "orig_nbformat": 4,
    "vscode": {
      "interpreter": {
        "hash": "df66168c05601359b7a18d86a592119f5db8fb3a1787607b00a26812b2b93761"
      }
    },
    "colab": {
      "provenance": [],
      "include_colab_link": true
    }
  },
  "nbformat": 4,
  "nbformat_minor": 0
}