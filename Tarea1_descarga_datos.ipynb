{
  "cells": [
    {
      "cell_type": "markdown",
      "metadata": {
        "id": "view-in-github",
        "colab_type": "text"
      },
      "source": [
        "<a href=\"https://colab.research.google.com/github/jjups96/mcd_ingenieria_de_caracteristicas/blob/main/Tarea1_descarga_datos.ipynb\" target=\"_parent\"><img src=\"https://colab.research.google.com/assets/colab-badge.svg\" alt=\"Open In Colab\"/></a>"
      ]
    },
    {
      "cell_type": "markdown",
      "metadata": {
        "id": "fLqU9CLUK9Xq"
      },
      "source": [
        "<center>\n",
        "<p><img src=\"https://mcd.unison.mx/wp-content/themes/awaken/img/logo_mcd.png\" width=\"150\">\n",
        "</p>\n",
        "\n",
        "\n",
        "\n",
        "# Curso *Ingeniería de Características*\n",
        "\n",
        "### Descargando datos\n",
        "\n",
        "\n",
        "<p> Jordan Joel Urias Paramo </p>\n",
        "<p>\n",
        "<img src=\"https://identidadbuho.unison.mx/wp-content/uploads/2019/06/letragrama-cmyk-72.jpg\" width=\"150\">\n",
        "</p>\n",
        "\n",
        "\n",
        "<a target=\"_blank\" href=\"https://colab.research.google.com/github/mcd-unison/ing-caract/blob/main/ejemplos/integracion/python/descarga_datos.ipynb\"><img src=\"https://i.ibb.co/2P3SLwK/colab.png\"  style=\"padding-bottom:5px;\" />Ejecuta en Google Colab</a>\n",
        "\n",
        "</center>"
      ]
    },
    {
      "cell_type": "markdown",
      "metadata": {
        "id": "byjoQIg5K9Xu"
      },
      "source": [
        "# 1. Descargando datos a la fuerza bruta\n",
        "\n",
        "Vamos a ver primero como ir descargando datos y luego como lidiar con diferentes formatos. Es muy importante que, si los datos los vamos a cargar por única vez, descargar el conjunto de datos, tal como se encuentran, esto es `raw data`.\n",
        "\n",
        "Vamos primero cargando las bibliotecas necesarias:"
      ]
    },
    {
      "cell_type": "code",
      "execution_count": 1,
      "metadata": {
        "id": "wnDkWxkFK9Xu"
      },
      "outputs": [],
      "source": [
        "\n",
        "import os  # Para manejo de archivos y directorios\n",
        "import urllib.request # Una forma estandard de descargar datos\n",
        "# import requests # Otra forma no de las librerías de uso comun\n",
        "\n",
        "import datetime # Fecha de descarga\n",
        "import pandas as pd # Solo para ver el archivo descargado\n",
        "import zipfile # Descompresión de archivos"
      ]
    },
    {
      "cell_type": "markdown",
      "metadata": {
        "id": "RNn4WrmLK9Xv"
      },
      "source": [
        "Es importante saber en donde nos encontramos y crear los subdirectorios necesarios para guardar los datos de manera ordenada. Tambien es importante evitar cargar datos que ya han sido descargados anteriormente."
      ]
    },
    {
      "cell_type": "code",
      "execution_count": 2,
      "metadata": {
        "id": "hF1kko8YK9Xw",
        "colab": {
          "base_uri": "https://localhost:8080/"
        },
        "outputId": "014e7b87-cada-4fc9-9973-7b4a3449f033"
      },
      "outputs": [
        {
          "output_type": "stream",
          "name": "stdout",
          "text": [
            "/content\n"
          ]
        }
      ],
      "source": [
        "# pwd\n",
        "print(os.getcwd())\n",
        "\n",
        "#  Estos son los datos que vamos a descargar y donde vamos a guardarlos\n",
        "desaparecidos_RNPDNO_url = \"http://www.datamx.io/dataset/fdd2ca20-ee70-4a31-9bdf-823f3c1307a2/resource/d352810c-a22e-4d72-bb3b-33c742c799dd/download/desaparecidos3ago.zip\"\n",
        "desaparecidos_RNPDNO_archivo = \"desaparecidosRNPDNO.zip\"\n",
        "desaparecidos_corte_nacional_url = \"http://www.datamx.io/dataset/fdd2ca20-ee70-4a31-9bdf-823f3c1307a2/resource/4865e244-cf59-4d39-b863-96ed7f45cc70/download/nacional.json\"\n",
        "desaparecidos_corte_nacional_archivo = \"desaparecidos_nacional.json\"\n",
        "\n",
        "\n",
        "\n",
        "\n",
        "subdir = \"./data/\"\n"
      ]
    },
    {
      "cell_type": "code",
      "execution_count": 3,
      "metadata": {
        "id": "H-C1azzPK9Xw"
      },
      "outputs": [],
      "source": [
        "if not os.path.exists(desaparecidos_RNPDNO_archivo):\n",
        "    if not os.path.exists(subdir):\n",
        "        os.makedirs(subdir)\n",
        "    urllib.request.urlretrieve(desaparecidos_RNPDNO_url, subdir + desaparecidos_RNPDNO_archivo)  \n",
        "    with zipfile.ZipFile(subdir + desaparecidos_RNPDNO_archivo, \"r\") as zip_ref:\n",
        "        zip_ref.extractall(subdir)\n",
        "    \n",
        "    urllib.request.urlretrieve(desaparecidos_corte_nacional_url, subdir + desaparecidos_corte_nacional_archivo)  \n",
        "\n",
        "    with open(subdir + \"info.txt\", 'w') as f:\n",
        "        f.write(\"Archivos sobre personas desaparecidas\\n\")\n",
        "        info = \"\"\"\n",
        "        Datos de desaparecidos, corte nacional y desagregación a nivel estatal, por edad, por sexo, \n",
        "        por nacionalidad, por año de desaparición y por mes de desaparición para los últimos 12 meses.\n",
        "\n",
        "        Los datos se obtuvieron del RNPDNO con fecha de 03 de agosto de 2021 (la base de datos se actualiza constantemente) \n",
        "\n",
        "        \"\"\" \n",
        "        f.write(info + '\\n')\n",
        "        f.write(\"Descargado el \" + datetime.datetime.now().strftime(\"%Y-%m-%d %H:%M:%S\") + \"\\n\")\n",
        "        f.write(\"Desde: \" + desaparecidos_RNPDNO_url + \"\\n\")\n",
        "        f.write(\"Nombre: \" + desaparecidos_RNPDNO_archivo + \"\\n\")\n",
        "        f.write(\"Agregados nacionales descargados desde: \" + desaparecidos_corte_nacional_url + \"\\n\")\n",
        "        f.write(\"Nombre: \" + desaparecidos_corte_nacional_archivo + \"\\n\")"
      ]
    },
    {
      "cell_type": "markdown",
      "source": [
        "Vemos un poco los datos relacionados con SONORA"
      ],
      "metadata": {
        "id": "mc_hkR5lpQZd"
      }
    },
    {
      "cell_type": "code",
      "source": [
        "df_desaparecidos = pd.read_json(subdir + desaparecidos_corte_nacional_archivo)"
      ],
      "metadata": {
        "id": "1d173v8ymwKc"
      },
      "execution_count": 38,
      "outputs": []
    },
    {
      "cell_type": "code",
      "source": [
        "df_desaparecidos.loc['Hombre']['espacial']['SONORA']"
      ],
      "metadata": {
        "colab": {
          "base_uri": "https://localhost:8080/"
        },
        "id": "G54TQXkun6H8",
        "outputId": "e5b0d5d8-3def-4ae0-d521-c911fd82f4f9"
      },
      "execution_count": 47,
      "outputs": [
        {
          "output_type": "execute_result",
          "data": {
            "text/plain": [
              "4345"
            ]
          },
          "metadata": {},
          "execution_count": 47
        }
      ]
    },
    {
      "cell_type": "code",
      "source": [
        "df_desaparecidos.loc['Mujer']['espacial']['SONORA']"
      ],
      "metadata": {
        "colab": {
          "base_uri": "https://localhost:8080/"
        },
        "id": "eMODGdfspKsZ",
        "outputId": "b1108a6a-2cbd-49c0-99a3-6de89177d151"
      },
      "execution_count": 48,
      "outputs": [
        {
          "output_type": "execute_result",
          "data": {
            "text/plain": [
              "2223"
            ]
          },
          "metadata": {},
          "execution_count": 48
        }
      ]
    },
    {
      "cell_type": "markdown",
      "source": [
        "#Datos de percepcion de seguridad\n",
        "De DataMexico, especificamente Sonora\n",
        "\n",
        "[Tiene unas graficas bonitas y mas formas de descagar](https://datamexico.org/es/profile/geo/sonora-so#seguridad-publica-conceptos)"
      ],
      "metadata": {
        "id": "ycA5lCWUgGhU"
      }
    },
    {
      "cell_type": "code",
      "source": [
        "import requests #Esto es para usar API's\n",
        "import pandas as pd # Esto es como una segunda piel\n",
        "import json # Una forma estandar de leer archivos json "
      ],
      "metadata": {
        "id": "LHdgKfDpWLYE"
      },
      "execution_count": 9,
      "outputs": []
    },
    {
      "cell_type": "markdown",
      "source": [
        "Percepcion de seguridad"
      ],
      "metadata": {
        "id": "c6VOr_fQg82_"
      }
    },
    {
      "cell_type": "code",
      "source": [
        "archivo_url_percepcion_seguridad = \"https://datamexico.org/api/data?Security+Perception+in+their+State=1&State=26&Year=2021&cube=inegi_envipe&drilldowns=Sociodemographic+Stratum%2CSex&locale=es&measures=People&parents=false&sparse=false\"\n",
        "archivo_percepcion_seguridad = \"percepcion_seguridad.json\"\n",
        "response = requests.get(archivo_url_percepcion_seguridad)\n",
        "if not os.path.exists(subdir + archivo_percepcion_seguridad):\n",
        "    if not os.path.exists(subdir):\n",
        "        os.makedirs(subdir)\n",
        "    with open(subdir + archivo_percepcion_seguridad, 'w') as outfile:\n",
        "      json.dump(response.json(), outfile)\n"
      ],
      "metadata": {
        "id": "AohkX2oXWmJA"
      },
      "execution_count": 12,
      "outputs": []
    },
    {
      "cell_type": "markdown",
      "source": [
        "confianza_autoridades"
      ],
      "metadata": {
        "id": "3EFA70c3k4mU"
      }
    },
    {
      "cell_type": "code",
      "source": [
        "archivo_url_confianza_autoridades = \"https://datamexico.org/api/data?State=26&Year=2021&Sex=undefined&cube=inegi_envipe&drilldowns=Confidence+in+Federal+Police&measures=People&parents=false&sparse=false&locale=es\"\n",
        "archivo_confianza_autoridades = \"confianza_autoridades.json\"\n",
        "response = requests.get(archivo_url_confianza_autoridades)\n",
        "if not os.path.exists(subdir + archivo_confianza_autoridades):\n",
        "    if not os.path.exists(subdir):\n",
        "        os.makedirs(subdir)\n",
        "    with open(subdir + archivo_confianza_autoridades, 'w') as outfile:\n",
        "      json.dump(response.json(), outfile)"
      ],
      "metadata": {
        "id": "4nUNwXsakgYv"
      },
      "execution_count": 37,
      "outputs": []
    },
    {
      "cell_type": "markdown",
      "source": [
        "Ejemplo de como usar pasar la infor a pandas"
      ],
      "metadata": {
        "id": "9A8YNGxllZNz"
      }
    },
    {
      "cell_type": "code",
      "source": [
        "with open(subdir + archivo_percepcion_seguridad) as json_file:\n",
        "    data = json.load(json_file)\n",
        "    print(data)"
      ],
      "metadata": {
        "colab": {
          "base_uri": "https://localhost:8080/"
        },
        "id": "QeP-mH_4Zdrk",
        "outputId": "018e12e3-d42a-432f-a9bb-a774b6788e9f"
      },
      "execution_count": 20,
      "outputs": [
        {
          "output_type": "stream",
          "name": "stdout",
          "text": [
            "{'data': [{'Sociodemographic Stratum ID': 1, 'Sociodemographic Stratum': 'Bajo', 'Sex ID': 1, 'Sex': 'Hombre', 'People': 44922}, {'Sociodemographic Stratum ID': 1, 'Sociodemographic Stratum': 'Bajo', 'Sex ID': 2, 'Sex': 'Mujer', 'People': 34944}, {'Sociodemographic Stratum ID': 2, 'Sociodemographic Stratum': 'Medio bajo', 'Sex ID': 1, 'Sex': 'Hombre', 'People': 111378}, {'Sociodemographic Stratum ID': 2, 'Sociodemographic Stratum': 'Medio bajo', 'Sex ID': 2, 'Sex': 'Mujer', 'People': 85163}, {'Sociodemographic Stratum ID': 3, 'Sociodemographic Stratum': 'Medio alto', 'Sex ID': 1, 'Sex': 'Hombre', 'People': 82443}, {'Sociodemographic Stratum ID': 3, 'Sociodemographic Stratum': 'Medio alto', 'Sex ID': 2, 'Sex': 'Mujer', 'People': 62921}, {'Sociodemographic Stratum ID': 4, 'Sociodemographic Stratum': 'Alto', 'Sex ID': 1, 'Sex': 'Hombre', 'People': 28815}, {'Sociodemographic Stratum ID': 4, 'Sociodemographic Stratum': 'Alto', 'Sex ID': 2, 'Sex': 'Mujer', 'People': 14626}], 'source': [{'name': 'inegi_envipe', 'measures': ['Homes', 'People'], 'annotations': {'source_name': 'Encuesta Nacional de Victimización y Percepción sobre Seguridad Pública (ENVIPE)', 'topic': 'Seguridad pública', 'source_link': 'https://www.inegi.org.mx/programas/envipe/2019/', 'table': 'Victimización y percepción de seguridad (ENVIPE)'}}]}\n"
          ]
        }
      ]
    },
    {
      "cell_type": "code",
      "source": [
        "jsonStr = json.dumps(data['data'])"
      ],
      "metadata": {
        "id": "uVtRbmPdd45L"
      },
      "execution_count": 34,
      "outputs": []
    },
    {
      "cell_type": "code",
      "source": [
        "df_repos = pd.read_json(jsonStr, orient='records')\n",
        "\n",
        "df_repos.head()"
      ],
      "metadata": {
        "colab": {
          "base_uri": "https://localhost:8080/",
          "height": 206
        },
        "id": "jMRf4ZAZZl3D",
        "outputId": "068b6a57-4ddf-4e86-f7c8-b286ede79850"
      },
      "execution_count": 36,
      "outputs": [
        {
          "output_type": "execute_result",
          "data": {
            "text/plain": [
              "   Sociodemographic Stratum ID Sociodemographic Stratum  Sex ID     Sex  \\\n",
              "0                            1                     Bajo       1  Hombre   \n",
              "1                            1                     Bajo       2   Mujer   \n",
              "2                            2               Medio bajo       1  Hombre   \n",
              "3                            2               Medio bajo       2   Mujer   \n",
              "4                            3               Medio alto       1  Hombre   \n",
              "\n",
              "   People  \n",
              "0   44922  \n",
              "1   34944  \n",
              "2  111378  \n",
              "3   85163  \n",
              "4   82443  "
            ],
            "text/html": [
              "\n",
              "  <div id=\"df-6452cc5d-0566-43e0-bfc1-ba7229d2672c\">\n",
              "    <div class=\"colab-df-container\">\n",
              "      <div>\n",
              "<style scoped>\n",
              "    .dataframe tbody tr th:only-of-type {\n",
              "        vertical-align: middle;\n",
              "    }\n",
              "\n",
              "    .dataframe tbody tr th {\n",
              "        vertical-align: top;\n",
              "    }\n",
              "\n",
              "    .dataframe thead th {\n",
              "        text-align: right;\n",
              "    }\n",
              "</style>\n",
              "<table border=\"1\" class=\"dataframe\">\n",
              "  <thead>\n",
              "    <tr style=\"text-align: right;\">\n",
              "      <th></th>\n",
              "      <th>Sociodemographic Stratum ID</th>\n",
              "      <th>Sociodemographic Stratum</th>\n",
              "      <th>Sex ID</th>\n",
              "      <th>Sex</th>\n",
              "      <th>People</th>\n",
              "    </tr>\n",
              "  </thead>\n",
              "  <tbody>\n",
              "    <tr>\n",
              "      <th>0</th>\n",
              "      <td>1</td>\n",
              "      <td>Bajo</td>\n",
              "      <td>1</td>\n",
              "      <td>Hombre</td>\n",
              "      <td>44922</td>\n",
              "    </tr>\n",
              "    <tr>\n",
              "      <th>1</th>\n",
              "      <td>1</td>\n",
              "      <td>Bajo</td>\n",
              "      <td>2</td>\n",
              "      <td>Mujer</td>\n",
              "      <td>34944</td>\n",
              "    </tr>\n",
              "    <tr>\n",
              "      <th>2</th>\n",
              "      <td>2</td>\n",
              "      <td>Medio bajo</td>\n",
              "      <td>1</td>\n",
              "      <td>Hombre</td>\n",
              "      <td>111378</td>\n",
              "    </tr>\n",
              "    <tr>\n",
              "      <th>3</th>\n",
              "      <td>2</td>\n",
              "      <td>Medio bajo</td>\n",
              "      <td>2</td>\n",
              "      <td>Mujer</td>\n",
              "      <td>85163</td>\n",
              "    </tr>\n",
              "    <tr>\n",
              "      <th>4</th>\n",
              "      <td>3</td>\n",
              "      <td>Medio alto</td>\n",
              "      <td>1</td>\n",
              "      <td>Hombre</td>\n",
              "      <td>82443</td>\n",
              "    </tr>\n",
              "  </tbody>\n",
              "</table>\n",
              "</div>\n",
              "      <button class=\"colab-df-convert\" onclick=\"convertToInteractive('df-6452cc5d-0566-43e0-bfc1-ba7229d2672c')\"\n",
              "              title=\"Convert this dataframe to an interactive table.\"\n",
              "              style=\"display:none;\">\n",
              "        \n",
              "  <svg xmlns=\"http://www.w3.org/2000/svg\" height=\"24px\"viewBox=\"0 0 24 24\"\n",
              "       width=\"24px\">\n",
              "    <path d=\"M0 0h24v24H0V0z\" fill=\"none\"/>\n",
              "    <path d=\"M18.56 5.44l.94 2.06.94-2.06 2.06-.94-2.06-.94-.94-2.06-.94 2.06-2.06.94zm-11 1L8.5 8.5l.94-2.06 2.06-.94-2.06-.94L8.5 2.5l-.94 2.06-2.06.94zm10 10l.94 2.06.94-2.06 2.06-.94-2.06-.94-.94-2.06-.94 2.06-2.06.94z\"/><path d=\"M17.41 7.96l-1.37-1.37c-.4-.4-.92-.59-1.43-.59-.52 0-1.04.2-1.43.59L10.3 9.45l-7.72 7.72c-.78.78-.78 2.05 0 2.83L4 21.41c.39.39.9.59 1.41.59.51 0 1.02-.2 1.41-.59l7.78-7.78 2.81-2.81c.8-.78.8-2.07 0-2.86zM5.41 20L4 18.59l7.72-7.72 1.47 1.35L5.41 20z\"/>\n",
              "  </svg>\n",
              "      </button>\n",
              "      \n",
              "  <style>\n",
              "    .colab-df-container {\n",
              "      display:flex;\n",
              "      flex-wrap:wrap;\n",
              "      gap: 12px;\n",
              "    }\n",
              "\n",
              "    .colab-df-convert {\n",
              "      background-color: #E8F0FE;\n",
              "      border: none;\n",
              "      border-radius: 50%;\n",
              "      cursor: pointer;\n",
              "      display: none;\n",
              "      fill: #1967D2;\n",
              "      height: 32px;\n",
              "      padding: 0 0 0 0;\n",
              "      width: 32px;\n",
              "    }\n",
              "\n",
              "    .colab-df-convert:hover {\n",
              "      background-color: #E2EBFA;\n",
              "      box-shadow: 0px 1px 2px rgba(60, 64, 67, 0.3), 0px 1px 3px 1px rgba(60, 64, 67, 0.15);\n",
              "      fill: #174EA6;\n",
              "    }\n",
              "\n",
              "    [theme=dark] .colab-df-convert {\n",
              "      background-color: #3B4455;\n",
              "      fill: #D2E3FC;\n",
              "    }\n",
              "\n",
              "    [theme=dark] .colab-df-convert:hover {\n",
              "      background-color: #434B5C;\n",
              "      box-shadow: 0px 1px 3px 1px rgba(0, 0, 0, 0.15);\n",
              "      filter: drop-shadow(0px 1px 2px rgba(0, 0, 0, 0.3));\n",
              "      fill: #FFFFFF;\n",
              "    }\n",
              "  </style>\n",
              "\n",
              "      <script>\n",
              "        const buttonEl =\n",
              "          document.querySelector('#df-6452cc5d-0566-43e0-bfc1-ba7229d2672c button.colab-df-convert');\n",
              "        buttonEl.style.display =\n",
              "          google.colab.kernel.accessAllowed ? 'block' : 'none';\n",
              "\n",
              "        async function convertToInteractive(key) {\n",
              "          const element = document.querySelector('#df-6452cc5d-0566-43e0-bfc1-ba7229d2672c');\n",
              "          const dataTable =\n",
              "            await google.colab.kernel.invokeFunction('convertToInteractive',\n",
              "                                                     [key], {});\n",
              "          if (!dataTable) return;\n",
              "\n",
              "          const docLinkHtml = 'Like what you see? Visit the ' +\n",
              "            '<a target=\"_blank\" href=https://colab.research.google.com/notebooks/data_table.ipynb>data table notebook</a>'\n",
              "            + ' to learn more about interactive tables.';\n",
              "          element.innerHTML = '';\n",
              "          dataTable['output_type'] = 'display_data';\n",
              "          await google.colab.output.renderOutput(dataTable, element);\n",
              "          const docLink = document.createElement('div');\n",
              "          docLink.innerHTML = docLinkHtml;\n",
              "          element.appendChild(docLink);\n",
              "        }\n",
              "      </script>\n",
              "    </div>\n",
              "  </div>\n",
              "  "
            ]
          },
          "metadata": {},
          "execution_count": 36
        }
      ]
    },
    {
      "cell_type": "markdown",
      "source": [
        "#A futuro\n",
        "\n",
        "Me interesa ver el efecto que tiene el genero en cuestion de desapariciones, y la percepcion que estos tienen respecto a la situacion de nuestro pais."
      ],
      "metadata": {
        "id": "dUr0CICXqNuK"
      }
    }
  ],
  "metadata": {
    "kernelspec": {
      "display_name": "Python 3.9.6 ('ing-caract')",
      "language": "python",
      "name": "python3"
    },
    "language_info": {
      "codemirror_mode": {
        "name": "ipython",
        "version": 3
      },
      "file_extension": ".py",
      "mimetype": "text/x-python",
      "name": "python",
      "nbconvert_exporter": "python",
      "pygments_lexer": "ipython3",
      "version": "3.9.6"
    },
    "orig_nbformat": 4,
    "vscode": {
      "interpreter": {
        "hash": "df66168c05601359b7a18d86a592119f5db8fb3a1787607b00a26812b2b93761"
      }
    },
    "colab": {
      "name": "Tarea1_descarga_datos.ipynb",
      "provenance": [],
      "include_colab_link": true
    }
  },
  "nbformat": 4,
  "nbformat_minor": 0
}